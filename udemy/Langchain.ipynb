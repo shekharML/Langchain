{
 "cells": [
  {
   "cell_type": "markdown",
   "id": "2de99091",
   "metadata": {},
   "source": [
    "LangChain is a framework for developing applications powered by large language models (LLMs).\n",
    "Langgraph - Use LangGraph to build stateful agents with first-class streaming and human-in-the-loop support.\n",
    "Langsmith - Use LangSmith to inspect, monitor and evaluate your applications, so that you can continuously optimize and deploy with        \n",
    "            confidence.            \n",
    "\n",
    "LLM application lifecycle:-\n",
    "Development -> Deployment -> Maintainence\n",
    "\n",
    "LangChain implements a standard interface for large language models and related technologies, such as embedding models and vector stores, and integrates with hundreds of providers."
   ]
  },
  {
   "cell_type": "code",
   "execution_count": 35,
   "id": "ed37d477",
   "metadata": {},
   "outputs": [],
   "source": [
    "import getpass\n",
    "import os\n",
    "from dotenv import load_dotenv"
   ]
  },
  {
   "cell_type": "code",
   "execution_count": null,
   "id": "cc69f3a3",
   "metadata": {},
   "outputs": [],
   "source": [
    "openai_api_key = os.getenv('OPENAI_API_KEY')\n",
    "\n",
    "from langchain.chat_models import init_chat_model\n",
    "\n",
    "model = init_chat_model(\"gpt-4.1-nano\",model_provider=\"openai\")\n",
    "model.invoke(\"hello\")"
   ]
  }
 ],
 "metadata": {
  "kernelspec": {
   "display_name": ".venv",
   "language": "python",
   "name": "python3"
  },
  "language_info": {
   "codemirror_mode": {
    "name": "ipython",
    "version": 3
   },
   "file_extension": ".py",
   "mimetype": "text/x-python",
   "name": "python",
   "nbconvert_exporter": "python",
   "pygments_lexer": "ipython3",
   "version": "3.13.3"
  }
 },
 "nbformat": 4,
 "nbformat_minor": 5
}
